{
 "cells": [
  {
   "cell_type": "markdown",
   "metadata": {},
   "source": [
    "# Bayesi statisztika\n",
    "\n",
    "A XX. század elejére kialakult a *valószínűség* véletlen tömegjelenségekhez kötődő fogalma, amely szerint azt a számot nevezzük egy esemény valószínűségének, amely körül az esemény relatív gyakorisága ingadozik. Kolmogorov a XX. század harmicas éveiben publikálta axiómáit és azt, hogy ezekre hogyan építhető fel a valószínűségelmélet. Erre a fogalomrendszerre épített a valószínűségszámítás egyik önálló fejezete, a *matematikai statisztika*, amely a tapasztalatokból levonható következtetésekkel foglalkozik. A szakembernek a statisztika megfelelő ismeretére van szüksége ahhoz, hogy eredményeit helyesen és eredményesen alkalmazza. \n",
    "\n",
    "Az 1920-as és 30-as években alakult ki és R.A. Fisher, J. Neyman és E. Pearson nevéhez kötődik a *klasszikus felfogás* megalkotása. Ennek alapját, a véletlen mintavételt, R.A. Fisher vezette be. A matematikai statisztika egyik jelentős területe a *becsléselmélet*, amely egy adott minta alapján a sokaságra vonatkozóan állapít meg értékeket. A *pontbecslés* a matematikai statisztika egyik központi fejezete, ami egy valószínűségi eloszlás paramétere becslésének a folyamata, és az eloszlás megfigyelt adatain alapul. Az  *intervallumbecslés* során pedig a minta alapján egy olyan intervallumot határozunk meg, amely az előre megadott valószínűséggel tartalmazza a becsülni kívánt jellemzőt. Ezt az intervallumot nevezzük konfidencia intervallumnak.\n",
    "\n",
    "A XX. század elejéig kialakult, statisztikán és valószínűség-számításon alapuló metodológia mellé felnőtt egy új, azt lényegileg tagadó alternatív módszertan. Ez az irányzat összefoglaló néven Bayes-módszertan, vagy szűkebb értelmezésben *bayesi statisztika* néven terjedt el. \n",
    "\n",
    "## Hagyományos és bayesi statisztika közötti különbség\n",
    "\n",
    "Gyakorlati szempontból nézve a statisztikai számítások nagyrészt valószínűségekkel végzett súlyozott átlagolást vagy integrálást jelentenek. A hagyományos és bayesi módszerek alapvetően különböző fajta integrálok kiszámítását igénylik. A bayesi módszerek lényeges megkülönböztető jellegzetessége az, hogy a hipotézisekre vonatkozó átlagolást vagy integrálást végeznek, szemben a klasszikus módszerekkel, amelyek alapja a mintatérben végzett átlagolás. Sokféle előny származik abból, hogy felcseréljük a mintaátlagot a hipotézis átlagolással.\n",
    "\n",
    "\"A bayesi és hagyományos módszerek közötti különbség lényege nem a prior információ felhasználása, hanem inkább a következtetés szempontjából lényeges alternatívák kiválasztása: a bayesi következtetés az alternatív hipotézisekre koncentrál, a klasszikus statisztika az alternatív mintákra. Valamely $H_1$ hipotézis kiértékelése érdekében a bayesi módszerek $H_1$ valószínűségét vetik össze más hipotézisek valószínűségével; a klasszikus módszerek feltételezik azt, hogy $H_1$ igaz, és összevetik a kiválasztott $D$ minta valószínűségét más, a $H_1$ által előrejelzett minták valószínűségével.\" ([T. Loredo](http://arxiv.org/pdf/1208.3036v2))\n",
    "\n",
    "A továbbiakban egy példa segítségével megpróbáljuk röviden bemutatni a bayesi statisztika gondolati alapjait, jellegzetességeit. Szólni fogunk az azokkal kapcsolatos vitákról, pro és kontra érvekről. Tagadhatatlan, hogy a gyakorlatban rohamosan tör előre a bayesi szemlélet, ezért érdemes megismernünk közelebbről is a ezt a statisztikát. Végül pedig szakirodalmi példákat hozunk fel annak bemutatására, hogy a geodézia mely területein alkalmazták már sikeresen a Bayes-módszertant."
   ]
  },
  {
   "cell_type": "markdown",
   "metadata": {},
   "source": [
    "## A Bayes-féle billiárd játék\n",
    "\n",
    "Ez a példa különböző változatokban lelhető fel, és Thomas Bayes-nek a halála után, 1763-ban publikált cikkéből ered.\n",
    "\n",
    "Andrea és Béla egy olyan játékot játszanak, amelyben az nyer, aki elsőként szerez meg 6 pontot. A pontokat egy kissé különös módon lehet megszerezni. A játékteremben egy billiárdasztal található, amelyet sem Andrea, sem Béla nem láthatnak. A játék kezdete előtt a segítő az asztalra egy golyót gurít, amely egy teljesen véletlenszerű helyen áll meg. Ezt a helyzetet megjelöli az asztalon, amit a játékosok természetesen nem láthatnak. Ezután minden pontot egy újabb golyó gurítása után osztanak ki. Ha ez a golyó a jelzéstől balra áll meg, akkor Andrea, ha a jelzéstől jobbra, akkor Béla kapja meg a pontot. A segítő - azon kívül, hogy ki kapja a pontot - semmilyen egyéb információt nem ad a játékosoknak. ![](biliard.png)\n",
    "\n",
    "Világos, hogy annak a valószínűsége, hogy Andrea kapja meg a pontot, a tábla jelzéstől balra eső részének az aránya - legyen ez a valószínűség $p$. Annak a valószínűsége, hogy Béla kapja a pontot, $1-p$. Mivel a játék kezdete előtt a segítő véletlenszerű helyzetbe juttatta a golyót, mindegyik $p$ érték egyformán valószínű. A jelzést játékonként csak egyszer helyezik el, ezért $p$ minden pont esetében ugyanakkora.\n",
    "\n",
    "Képzeljük el azt a helyzetet, hogy Andrea már 5 pontot szerzett, míg Bélának csak 3 pontja van. Mi Andrea nyerési esélye Bélával szemben, más szóval mi annak a várható valószínűsége, hogy Andrea nyeri a játékot?\n"
   ]
  },
  {
   "cell_type": "markdown",
   "metadata": {},
   "source": [
    "### Ha *p*-t ismernénk, akkor könnyű dolgunk lenne\n",
    "\n",
    "Mivel Andreának már csak 1 pontra van szüksége a nyeréshez, ezért Béla csak akkor nyerheti meg a játékot, ha egymás után 3 pontot nyer. Ennek a valószínűsége $(1-p)^3$, minden más esetben Andrea nyer, ezért az ő nyerésének a valószínűsége $[1-(1-p)^3]$. Ha Andrea ismerné $p$-t, akkor könnyű lenne kiszámolnia a valódi esélyeit. Például ha a jelzés pontosan középen lenne a táblán (vagy ha ez pénzfeldobásos játék lenne egy szabályos érmével), akkor *p* értéke 0.5 lenne. Béla nyerésének valószínűsége ezért $(1-0.5)^3$, vagyis 1/8; Andreáé 7/8; a nyerési esélye tehát 7:1-hez.\n",
    "\n",
    "Mit tettünk meg az imént? Kiszámoltuk bizonyos *adatok* előfordulásának valószínűségét (a következő, legfeljebb 3 pontot eredményező kimenetekét) egy valószínűségi *modell* (a $p$ valószínűség) segítségével. Egy ilyen valószínűségre vonatkozó általános jelölés a *P*(adat | modell), ahol a '|' jel azt jelenti: 'ha adott', 'feltéve hogy'. Ez tehát egy statisztikai modellből számítható, és *likelihood*-nak nevezik. A likelihood a modell paraméter(ek) és az adatok közötti kapcsolatot fejezi ki. Azért hívják likelihood függvénynek, mert arra használjuk, hogy kifejezzük a segítségével, hogy a paraméterek mely értéke eredményezhette a legvalószínűbb módon a megfigyelt adatokat. Más szavakkal, a maximum likelihood módszer olyan paramétereket keres, amelyek biztosítják, hogy aktuális mintánk az összes más paraméterrel rendelkező sokaságból a leginkább hihető módon adódik.\n",
    "\n",
    "Az olyan paramétert, amely egyébként érdektelen, viszont szükség van rá az eredmény kiszámításához, *koloncparaméter*nek vagy *muszájparaméter*nek hívjuk (angol: *nuisance parameter*). A jelen példában szereplő $p$ valószínűség tipikusan ilyen koloncparaméter."
   ]
  },
  {
   "cell_type": "markdown",
   "metadata": {},
   "source": [
    "### Következtetés *p*-re az adatok alapján\n",
    "\n",
    "A probléma az, hogy Andrea és Béla nem ismerik $p$-t. Az a tény, hogy Andrea 5-3-ra vezet, annak bizonyítéka, hogy az ismeretlen helyzetben található jelzés valószínűleg Andreának előnyös, de a számok kicsik, és ezért nem lehet biztos ebben. Talán a jelzés Bélának kedvez, éppen csak balszerencséje van.\n",
    "\n",
    "Ez egy tudományos statisztikai következtetési probléma. Korlátozott számú adatunk van: Andrea 5-3 arányban nyerésre áll. Amit keresünk, az egy nem ismert 'hipotézis': $p$ értéke. Ezt a következtetést jövőbeli események előrejelzéséhez használjuk: mi annak a valószínűsége, hogy Andrea nyeri a játékot?\n",
    "\n",
    "Egyik lehetséges megoldás az ismeretlen $p$ paraméter klasszikus *maximum likelihood* becslése. [Könnyű megmutatni](https://onlinecourses.science.psu.edu/stat504/node/28) a binomiális valószínűség segítségével, hogy mivel Andrea idáig 8-ból 5-ször nyert, maximum likelihood becslés $p$-re egyenlő a relatív gyakorisággal, $5/8$-al. Ebből következően Béla nyerési esélye $(3/8)^3=27/512$, ezzel szemben Andrea nyerési esélye $485/512$, vagyis körülbelül 18:1-hez."
   ]
  },
  {
   "cell_type": "markdown",
   "metadata": {},
   "source": [
    "### Bayes-i megoldás\n",
    "\n",
    "A Bayes-módszer szerint az adatok alapján, amelyeket ismerünk, pontosan le kell írnunk azt a valószínűséget, amelyre következtetni szeretnénk. Ezután meg kell oldanunk az így kapott egyenletet. A Bayes-módszer egyik jellegzetessége az, hogy ha bizonytalan paramétereket kell használnunk a probléma megoldásához, akkor nem végzünk pontbecslést ezekre a paraméterekre. Ehelyett a bizonytalanságot szigorúbban kezeljük, vagyis integrálást végzünk minden lehetséges értékre, amelyet a paraméter felvehet.\n",
    "\n",
    "Jelen esetben annak a várható valószínűségét keressük, hogy Béla fog nyerni (legyen ez $E$). Definíció szerint ez $(1-p)^3$ súlyozott átlaga $p$ minden lehetséges értékére:\n",
    "\n",
    "$$E(\\mathrm{Béla\\;nyer})=\\int_0^1 (1-p)^3 P(p \\;| \\;A=5, B=3) \\;dp$$\n",
    "\n",
    "ahol a $(1-p)^3$ tényező Béla nyerésének valószínűsége egy adott $p$ érték esetén, $P(p \\;| \\;A=5, B=3)$ pedig az a valószínűség, hogy az adott $p$ érték a helyes érték, annak a megfigyelésnek (adat) a birtokában, hogy Andreának 5, Bélának 3 pontja van.\n",
    "\n",
    "Mi ez a $P(p \\;| \\;A=5, B=3)$? A $p$ paraméter valószínűsége feltéve, hogy ismerjük az adatokat. Ez nem ugyanaz a valószínűség, mint a számunkra ismerősebb $P(A=5, B=3 \\;| \\;p)$, vagyis az adatok valószínűsége egy ismert $p$ értékre. Ez egy fordított, *inverz valószínűségi* probléma. A *P*(adat | modell) helyett *P*(modell | adat)-ra van szükségünk.\n",
    "\n",
    "Az inverz valószínűség problémájának megoldására szolgál a *Bayes-tétel*, amely két valószínűségi változóra, $X$-e és $Y$-ra vonatkozóan a feltételes valószínűségek definíciójából, illetve a teljes valószínűség tételéből  könnyen levezethető:\n",
    "\n",
    "$$P(X\\;|\\;Y) = \\frac{P(Y\\;|\\;X) P(X)}{P(Y)} = \\frac{P(Y\\;|\\;X) P(X)}{\\sum_{X'}P(Y\\;|\\;X') P(X'))},$$\n",
    "\n",
    "illetve a példánkban\n",
    "\n",
    "$$P(p \\;| \\;A=5, B=3) = \\frac{P(A=5, B=3 \\;| \\;p) P(p)}{\\int_0^1 P(A=5, B=3 \\;| \\;p)\\; P(p)\\;dp)}.$$\n",
    "\n",
    "Tehát $p$ egy adott választásának valószínűsége, ha ismerjük az adatokat ($p$ 'poszterior' valószínűsége) arányos annak a valószínűségével, hogy megkapjuk a megfigyelt adatokat amennyiben az a $p$ igaz ($p$ 'likelihood'-ja), szorozva ennek a $p$-nek az *a priori*, az összes többi $p$-hez viszonyított valószínűségével ($p$ előzetes, prior valószínűsége).\n",
    "\n",
    "Azért, hogy végül is valószínűséget kapjunk, elosztjuk a $p$ összes értékére vett szummával, de mivel $p$ folytonos változó, ezért ez a $p=0$-tól $p=1$-ig történő integrálást jelent.\n",
    "\n",
    "Láthattuk azt is, hogy a bayesi eljárással integrálással megszabadultunk a számunkra lényegtelen $p$ koloncparamétertől. Ez egyébként jellemző a bayesi statisztikára és egyben annak az előnye is, mert a hagyományos statisztikában nincs teljesen kielégítő eljárás arra, hogyan szabaduljunk meg ezektől a paraméterektől."
   ]
  },
  {
   "cell_type": "markdown",
   "metadata": {},
   "source": [
    "Az inverz valószínűségek számítása és Bayes tétele a bayesi módszer egy másik jellegzetessége. Amennyiben a feltételes valószínűségeknek ok-okozati interpretációt adunk, akkor a Bayes tétel az okok és okozatok egymással való kapcsolatát, az okozati láncon való kétirányú mozgást irja le. A fordított irányú gondolkodás (inverz valószínűségek számítása) lényeges, ugyanakkor a köznapi gondolkodásban nem természetes. A detektív munkája is hasonló fordított gondolkodást igényel, hiszen fordítva járja be az oksági láncot. A detektív szembesül az eredménnyel (okozat), és azt próbálja megtalálni, hogy milyen okok vezethettek a tapasztalt okozathoz. Végül is éppen ez az, amit a Bayes-tétel formalizál.\n",
    "\n",
    "A likelihood tényezőt tudjuk hogyan kell kiszámítani: $P(A=5, B=3 \\;| \\;p)$ binomiális eloszlásból $(8!/5!3!)p^5(1-p)^3$. Ábrázoljuk ezt a feladatban szereplő likelihood függvényt!"
   ]
  },
  {
   "cell_type": "code",
   "execution_count": 1,
   "metadata": {
    "collapsed": false
   },
   "outputs": [
    {
     "data": {
      "image/png": "[encoded data removed]",
      "text/plain": [
       "<matplotlib.figure.Figure at 0x7f92c5237d50>"
      ]
     },
     "metadata": {},
     "output_type": "display_data"
    }
   ],
   "source": [
    "from __future__ import print_function, unicode_literals\n",
    "import matplotlib.pyplot as plt\n",
    "import numpy as np\n",
    "from scipy.special import binom\n",
    "%matplotlib inline\n",
    "\n",
    "def likelihood(p):\n",
    "    return binom(8, 5) * p**5 * (1-p)**3\n",
    "p = np.linspace(0,1,101)\n",
    "plt.plot(p,likelihood(p),'b-')\n",
    "plt.xlabel('p')\n",
    "plt.title('likelihood függvény')\n",
    "plt.show()"
   ]
  },
  {
   "cell_type": "markdown",
   "metadata": {},
   "source": [
    "Látszik, hogy a likelihood függvény maximuma 5/8=0.625-nél található, és ez a korábban adott maximum likelihood becslés $p$-re. Számítsuk ki a likelihood függvény integrálját!"
   ]
  },
  {
   "cell_type": "code",
   "execution_count": 2,
   "metadata": {
    "collapsed": false
   },
   "outputs": [
    {
     "name": "stdout",
     "output_type": "stream",
     "text": [
      "integrálás eredménye:  (0.11111111111111113, 1.2335811384723963e-15)\n"
     ]
    }
   ],
   "source": [
    "from scipy.integrate import quad\n",
    "ilikelihood = quad(likelihood,0,1)\n",
    "print(\"integrálás eredménye: \", ilikelihood)"
   ]
  },
  {
   "cell_type": "markdown",
   "metadata": {},
   "source": [
    "A $P(p)$ prior meghatározása problémát jelenthet. Definíció szerint $P(p)$ $p$-nek a valószínűsége *mielőtt* egyáltalán bármilyen adatunk lenne. Mit tudhatnánk egyáltalán $p$-ről, mielőtt adatunk lenne?\n",
    "\n",
    "A billiárd játék lényeges jellemzője az, hogy $P(p)$ jól meghatározott: a játékot úgy találták ki, hogy $p$-t *egyenletes eloszlás*ból választották. \n",
    "\n",
    "Az egyenletesen eloszlás sűrűségfüggvénye $P(p)$ is könnyen ábrázolható."
   ]
  },
  {
   "cell_type": "code",
   "execution_count": 3,
   "metadata": {
    "collapsed": false
   },
   "outputs": [
    {
     "data": {
      "image/png": "[encoded data removed]",
      "text/plain": [
       "<matplotlib.figure.Figure at 0x7f92e4e12a50>"
      ]
     },
     "metadata": {},
     "output_type": "display_data"
    }
   ],
   "source": [
    "plt.plot(p,np.ones_like(p),'b-')\n",
    "plt.ylim([0,1.1])\n",
    "plt.xlabel('p')\n",
    "plt.title('prior P(p) függvény')\n",
    "plt.show()"
   ]
  },
  {
   "cell_type": "markdown",
   "metadata": {},
   "source": [
    "A poszterior valószínűség eloszlás a prior miatt megegyezik a likelihood függvénnyel, egy konstans szorzótól eltekintve. Béla nyerésének valószínűségét tehát a poszterior $(1-p)^3$-nel szorzott értékének integrálja adja meg. Rajzoljuk fel ezt a függvényt is és integráljuk."
   ]
  },
  {
   "cell_type": "code",
   "execution_count": 4,
   "metadata": {
    "collapsed": false
   },
   "outputs": [
    {
     "data": {
      "image/png": "[encoded data removed]",
      "text/plain": [
       "<matplotlib.figure.Figure at 0x7f92c3fed150>"
      ]
     },
     "metadata": {},
     "output_type": "display_data"
    },
    {
     "name": "stdout",
     "output_type": "stream",
     "text": [
      "integrálás eredménye:  (0.0101010101010101, 1.121437398611269e-16)\n"
     ]
    }
   ],
   "source": [
    "def postm(p):\n",
    "    return binom(8, 5) * p**5 * (1-p)**6\n",
    "p = np.linspace(0,1,101)\n",
    "plt.plot(p,postm(p),'b-')\n",
    "plt.xlabel('p')\n",
    "plt.title('$(1-p)^3$-al szorzott poszterior')\n",
    "plt.show()\n",
    "\n",
    "\n",
    "ipostm = quad(postm,0,1)\n",
    "print(\"integrálás eredménye: \", ipostm)"
   ]
  },
  {
   "cell_type": "markdown",
   "metadata": {},
   "source": [
    "Most már ki tudjuk számítani annak a várható valószínűségét, hogy Béla fog nyerni. A két érték hányadosa:"
   ]
  },
  {
   "cell_type": "code",
   "execution_count": 5,
   "metadata": {
    "collapsed": false
   },
   "outputs": [
    {
     "name": "stdout",
     "output_type": "stream",
     "text": [
      "Béla nyerésének várható valószínűsége: 0.0909\n"
     ]
    }
   ],
   "source": [
    "print(\"Béla nyerésének várható valószínűsége: {0:.4f}\".format(ipostm[0]/ilikelihood[0]))"
   ]
  },
  {
   "cell_type": "markdown",
   "metadata": {},
   "source": [
    "Algebrai megoldást is adhatunk a problémára. Mivel $P(p)$ egyenletesen eloszló, ezért konstans, és kiesik a Bayes egyenletből. Algebrai átrendezés után ezt az eredményt kapjuk meg:\n",
    "\n",
    "$$E(\\mathrm{Béla\\;nyer})=\\frac{\\int_0^1 p^5(1-p)^6\\;dp}{\\int_0^1 p^5(1-p)^3\\;dp}.$$\n",
    "\n",
    "Kiderül, hogy ezeknek az integráloknak létezik analitikus megoldása. Az úgynevezett *béta integrál*\n",
    "\n",
    "$$ \\int_0^1 p^{m-1}(1-p)^{n-1}dp=\\frac{\\Gamma (n) \\Gamma (m)}{\\Gamma (m+n)}$$\n",
    "\n",
    "ahol $Gamma (x)$ a gamma függvény, a faktoriális általánosítása valós számokra: $\\Gamma (n+1)=n!$ ha $n$ egész szám. Számíttassuk ki ezt az eredményt a Python-nal:"
   ]
  },
  {
   "cell_type": "code",
   "execution_count": 6,
   "metadata": {
    "collapsed": false
   },
   "outputs": [
    {
     "name": "stdout",
     "output_type": "stream",
     "text": [
      "E(Béla nyer) = 0.0909\n",
      "Andrea esélye: 10:1-hez\n"
     ]
    }
   ],
   "source": [
    "from scipy.special import beta\n",
    "bayes_prob = beta(6 + 1, 5 + 1) / beta(3 + 1, 5 + 1)\n",
    "chance = (1-bayes_prob)/bayes_prob\n",
    "\n",
    "print(\"E(Béla nyer) = {0:.4f}\".format(bayes_prob))\n",
    "print(\"Andrea esélye: {0:.0f}:1-hez\".format(chance))"
   ]
  },
  {
   "cell_type": "markdown",
   "metadata": {},
   "source": [
    "Annak a várható valószínűsége tehát, hogy Béla nyer, 1/11, ezért Andreáé 10/11, és így a bayesi számítás eredménye a 10:1-hez. Ez igen jelentősen eltér a klasszikus statisztikával, maximum likelihood becsléssel számított 18:1-től. Melyik eredmény helyes, és miből adódik ez az eltérés?"
   ]
  },
  {
   "cell_type": "markdown",
   "metadata": {},
   "source": [
    "### Monte-Carlo szimuláció\n",
    "\n",
    "Ebben az egyszerű esetben viszonylag könnyű Monte-Carlo szimulációval meghatározni a helyes eredményt. Lényegében ez a lehetséges kimenetek táblázata: nagyszámú véletlen játékot generálunk és egyszerűen megszámoljuk azokat, amelyekben Béla fog nyerni. A probléma azért különösen egyszerű, mert sok valószínűségi változó egyenletes eloszlású. A `numpy` csomagot használva:"
   ]
  },
  {
   "cell_type": "code",
   "execution_count": 7,
   "metadata": {
    "collapsed": false
   },
   "outputs": [
    {
     "name": "stdout",
     "output_type": "stream",
     "text": [
      "(ellenőrzés sikeres)\n",
      "A megfelelő játékok száma: 11068\n",
      "Ezekből Béla nyert: 979\n",
      "Monte Carlo valószínűség, hogy Béla nyert: 0.088\n",
      "MC esély, hogy nem Béla nyer: 10.3 : 1\n"
     ]
    }
   ],
   "source": [
    "import numpy as np\n",
    "np.random.seed(0)\n",
    "\n",
    "# 100000 játékot játsszunk le, véletlenszerűen választott, 0 és 1 közötti p-vel\n",
    "p = np.random.random(100000)\n",
    "\n",
    "# egy játék legfeljebb 11 fordulóból áll, mert a győztesnek 6-szor kell nyerni\n",
    "rolls = np.random.random((11, len(p)))\n",
    "\n",
    "# számítsuk ki hogy fordulónként Andrea és Béla hányszor nyernek\n",
    "Andrea_count = np.cumsum(rolls < p, 0)\n",
    "Bela_count = np.cumsum(rolls >= p, 0)\n",
    "\n",
    "# ellenőrzés: az összes pontok száma egyenlő a pontok összegével\n",
    "total_wins = Andrea_count + Bela_count\n",
    "assert np.all(total_wins.T == np.arange(1, 12))\n",
    "print(\"(ellenőrzés sikeres)\")\n",
    "\n",
    "# határozzuk meg hány játékban teljesül a feltétel (A nyer, B nyer)=(5, 3)\n",
    "# e szerint Béla 8 fordulóban 3-szor nyert\n",
    "good_games = Bela_count[7] == 3\n",
    "print(\"A megfelelő játékok száma: {0}\".format(good_games.sum()))\n",
    "\n",
    "# csak ezekkel foglalkozzunk\n",
    "Andrea_count = Andrea_count[:, good_games]\n",
    "Bela_count = Bela_count[:, good_games]\n",
    "\n",
    "# ezek közül Béla hányban nyert\n",
    "# 11 fordulóból 6-szor kellett nyernie\n",
    "bela_won = np.sum(Bela_count[10] == 6)\n",
    "print(\"Ezekből Béla nyert: {0}\".format(bela_won.sum()))\n",
    "\n",
    "# számítsuk ki a valószínűséget\n",
    "mc_prob = bela_won.sum() * 1. / good_games.sum()\n",
    "print(\"Monte Carlo valószínűség, hogy Béla nyert: {0:.3f}\".format(mc_prob))\n",
    "print(\"MC esély, hogy nem Béla nyer: {0:.1f} : 1\".format((1. - mc_prob) / mc_prob))\n",
    "\n"
   ]
  },
  {
   "cell_type": "markdown",
   "metadata": {},
   "source": [
    "A szimuláció tehát azt támasztotta alá, hogy a Bayes-féle becslés a helyes, a maximum likelihood becslés (MLE) pedig hibás. Mi ennek az oka?\n",
    "\n",
    "Elsősorban az, hogy az MLE pontbecslést végzett a paraméterre a poszterior *eloszlás* meghatározása helyett. A keresett eredmény, a nyerés valószínűsége általában nemlineáris $f$ transzformációja $p$-nek ezért az $E[f(p)]$ várható érték nem egyenlő az $f(E[p])$-vel. A Bayes-féle becslés az elsőt számítja ki, ami helyes; a klasszikus pedig a másodikat, ami hibás.\n",
    "\n",
    "A bayesi módszerek azért előnyösek, ahogy a példa megmutatta, mivel az eredmények egy eloszlás, a poszterior alakjában adódnak, amelynek a segítségével támogathatjuk a döntéseket bizonytalanság esetén és megválaszolhatjuk a feltett kérdéseket.\n",
    "\n",
    "Természetesen egy hozzáértő statisztikus felismerné, hogy az alkalmazott klasszikus módszer ebben az esetben nem megfelelő, és örömmel alkalmazná a Bayes-tételt a probléma megoldására, mivel a prior-t már a probléma megfogalmazása tartalmazza.\n",
    "\n",
    "Ez akkor is hátránynak tűnik, mivel legtöbben nem vagyunk \"hozzáértő statisztikusok\". Ezért szívesebben használnánk egy olyan módszert, amely mindig helyes eredményhez vezet mint egy olyat, amelyik jelentős szakértelmet igényel annak eldöntéséhez, hogy a módszer mikor vezet helyes, mikor pedig hibás eredményekhez.\n"
   ]
  },
  {
   "cell_type": "markdown",
   "metadata": {},
   "source": [
    "## A bayesi statisztika nehézségei\n",
    "\n",
    "A statisztikai következtetéselméletben a bayesi módszertan kiindulópontja Bayes tétele, amit azonban most nem egyes valószínűségekre, hanem egész sűrűségfüggvényekre írunk fel. A két mennyiség, amelyekre a tételt felírjuk ekkor az $y$-nak jelölt *minta*(adat), és a $\\theta$-val jelölt *paraméter* lesz:\n",
    "\n",
    "$$ f(\\theta|y)=\\frac{f(y|\\theta)f(\\theta)}{f(y)}\\propto f(y|\\theta)f(\\theta)$$\n",
    "\n",
    "ahol a $\\propto$ jel az arányosságra utal. Ebben az összefüggésben a $\\theta$ paraméter jelenti a vizsgálat tárgyát, $y$ minta pedig a tapasztalati eredményeket. Az $f(\\theta)$ fejezi ki a paraméterre vonatkozó a priori ismereteinket (feltevéseinket). $f(y)$ az adott minta előfordulását jellemző sűrűségfüggvény, viszont igazából a két feltételes valószínűség az érdekes. Ezek közül az $f(y|\\theta)$ a közismert likelihood függvény, míg $f(\\theta|y)$ az elemzés eredményét jelentő a posteriori sűrűségfüggvény (poszterior), ami azt mutatja, hogy a minta ismeretében (feltételezésével) milyen a vizsgált paraméter(ek) eloszlása. \n",
    "\n",
    "A bayesi módszertan (konkrét valószínűségen alapuló következtetés) közvetlen eljárást ad a döntési bizonytalanság kezeléséhez, viszont az alkalmazása során háromfajta nehézséggel is kell számolnunk.\n",
    "\n",
    "### 1. számítási nehézségek\n",
    "\n",
    "A bayesi statisztikán alapuló számítások majdnem mindig megkívánják a bizonytalan paraméterekre vonatkozó integrálok kiértékelését. Ezt az eljárást szokták *kiintegrálásnak* nevezni. Gyakran ezek az integrálok analitikusan nem megoldhatók és így számításigényes numerikus eszközökre van szükség. A számítógépek megjelenéséig ezért a bayesi statisztikai módszerek a gyakorlatban egyszerűen nem voltak kivitelezhetőek. \n",
    "\n",
    "Részben ennek az igénynek a hatására alakultak ki az utóbbi évtizedekben azok az algoritmusok, amelyek ezt a feladatot különféle mintavételken alapuló szimulációs technikákkal oldják meg. Kiemelkedő közülük a nagyon hatékonynak bizonyuló és kivételesen népszerű Markov-láncokon alapuló Monte-Carlo algoritmusok (Markov Chain Monte Carlo, MCMC), amelyeket egyesek minden idők tíz legfontosabb algoritmusa egyikeként emlegetnek. Ennek a lényege: a vizsgálni kívánt eloszlásokból mintát vesznek úgy, hogy egy alkalmasan kidolgozott Markov-lánc vezeti a mintavételt. A minták tapasztalati jellemzőiből pedig következtetni lehet azok tulajdonságaira. Az MCMC jelenleg is a kutatások homlokterében áll, de sok algoritmusa már számos szoftverben ([OpenBUGS](http://www.openbugs.net), [Stan](http://mc-stan.org/index.html), [JAGS](http://mcmc-jags.sourceforge.net/), [emcee](http://dan.iel.fm/emcee/), [PyMC](https://github.com/pymc-devs/pymc), [PyStan](https://github.com/stan-dev/pystan)) jelenleg is elérhető. A Markov-láncokról és az MCMC egyik algoritmusáról, a [Metropolis](https://en.wikipedia.org/wiki/Metropolis%E2%80%93Hastings_algorithm)-algoritmusról bővebb információkat találhatunk Rónyai Lajos [könyvében](http://www.tankonyvtar.hu/en/tartalom/tamop425/0027_2A_Ronyai_Lajos_Veletlen_es_algoritmusok/adatok.html)."
   ]
  },
  {
   "cell_type": "markdown",
   "metadata": {},
   "source": [
    "### 2. prior megválasztása\n",
    "\n",
    "A bayesi statisztika megkívánja az $f(\\theta)$ prior valószínűség eloszlás megadását. A prior léte, tartalma és értelme az egész bayesi gondolkodás egyik sarokpontja. A bayesi megközelítést bírálják azért, mert megengedhetetlen szubjektivitást visz a döntési, következetési folyamatba. A szokásos ellenérv erre az, hogy a nem bayesi módszerek is burkoltan hasonló feltételezéseket tesznek, és valószínűleg jobb az, ha ezeket kezdettől fogva világossá tesszük.\n",
    "\n",
    "A bayesi szemlélet hívei emellett az objektív valószínűség hátulütőit hangsúlyozzák, elsősorban azt, hogy az csak tömegjelenségek esetében értelmes. Vagyis csak akkor indokolt, ha e mögött a valószínűség mögött valóban nagy, ismételhető minták állnak. Ez azonban a gyakorlatnak csak egy igen kis szeletére igaz, a bizonytalan környezetben hozandó döntések vagy következtetések esetében nem jellemző.\n",
    "\n",
    "Különösen élesen merülnek fel ezek a kérdések azokban az esetekben, amikor a döntés vagy következtetés tárgyáról nincsenek előzetes ismereteink. Ekkor olyan priort kell választanunk, ami a lehető legjobban kifejezi a tudatlanságunkat: ezt hívják *neminformatív* priornak. Talán furcsának tűnik, de ez a feladat - neminformatív priorok készítése - egyáltalán nem könnyű és nagyon sok vitát váltott ki. Egyszerűbb esetekben az az elv vált általánossá, hogy a tudatlanságunkat az entrópia maximalizálás útján fejezzük ki, azaz olyan priort keresünk, amelyiknél az eloszlás entrópiája a lehető legnagyobb.\n",
    "\n",
    "### 3. szubjektív valószínűség\n",
    "\n",
    "Míg a klasszikus tudományos felfogásban a valószínűség objektív fogalom: a relatív gyakoriságok határértéke, a bayesi keretek ennél jóval szabadabb értelmezést is lehetővé tesznek.\n",
    "\n",
    "Ez utóbbi értelmezésben a valószínűség nem(csak) tömegesen előforduló események bekövetkezését jellemző számérték, hanem egyes, nem ismétlődő események vagy állapotok bekövetkezésének várt gyakoriságát jellemző mérőszám. Ha egy olyan eseménynek a bekövetkezését akarjuk jellemezni mint például, hogy ki nyeri 2016-ben a Bajnokok Ligáját, akkor valamiféle szakmai megfontolás, szubjektív érzés, megítélés, hit alapján mondhatjuk azt, hogy a Reál Madridnak 50 százalék esélye van erre, de jól látható, hogy ennek az 50 százaléknak semmi köze nincs a hagyományosan értelmezett (objektív) valószínűséghez.\n",
    "\n",
    "Egy további különbséget is megemlíthetünk a klasszikus és bayesi felfogás között. Míg a klasszikus statisztikában a becslés és hipotézisvizsgálat tárgya jellemzően valami ismeretlen, de feltételezés szerint rögzített érték, a bayesi statisztika ezt egy ismeretlen valószínűségi változóként fogja fel. Mindkét felfogás önmagában védhető, de lényeges szemléleti különbség van közöttük."
   ]
  },
  {
   "cell_type": "markdown",
   "metadata": {},
   "source": [
    "## A bayesi statisztika alkamazásai a geodéziában\n",
    "\n",
    "A bayesi statisztikán alapuló elemzések egyre inkább tért hódítanak a geodézia szakterületén belül is. Az alábbiakban a teljesség igénye nélkül kiragadtunk néhány területet és a hozzájuk kapcsolódó publikációkat.\n",
    "\n",
    "* GNSS fázismérések ciklusugrásainak, idősorok kivágó értékeinek a detektálása ([de Lacy et al, 2008](http://link.springer.com/article/10.1007/s00190-007-0203-8), [Qianqian, Qingming, 2013](http://link.springer.com/article/10.1007%2Fs00190-013-0640-5))\n",
    "* GNSS ciklustöbbértelműségek validálása ([Wu, Bian, 2015](http://link.springer.com/article/10.1007/s00190-015-0826-0))\n",
    "* GPS bázisvonalak konfidencia intervallumai ([Gundlich, Koch, 2002](http://link.springer.com/article/10.1007/s001900100222))\n",
    "* GNSS meteorológia ([Foelsche, Kirchengast, 2001](http://www.cosmic.ucar.edu/related_papers/2001_foelsche_imaging.pdf))\n",
    "* mozgásvizsgálatok ([Sacerdote et al, 2009](http://link.springer.com/article/10.1007/s00190-009-0360-z))\n",
    "* LIDAR adatok és légifényképek fúziója ([Rastiveis, 2015](http://www.int-arch-photogramm-remote-sens-spatial-inf-sci.net/XL-1-W5/589/2015/))\n",
    "* képelemzés, klasszifikáció ([Storvik et al, 2005](http://folk.uio.no/geirs/publ/multiscale_printed.pdf))\n",
    "* gömbfüggvény analízis ([Muir, Tkalcic, 2014](http://authors.library.caltech.edu/63739/1/Geophys.%20J.%20Int.-2015-Muir-1164-71.pdf))"
   ]
  },
  {
   "cell_type": "markdown",
   "metadata": {},
   "source": [
    "Ízelítőként bemutatunk de Lacy et al. ciklusugrások detektálásával foglalkozó cikkéből néhány ábrát, amely a paraméterek eloszlásra vonatkozó poszterior eloszlásokat mutatja. ![](lacy.png)"
   ]
  },
  {
   "cell_type": "markdown",
   "metadata": {},
   "source": [
    "Az érdeklődő olvasó a bayesi statisztikáról további információkat találhat a következő munkákban, amelyekből több gondolatot merítettünk a téma fenti rövid ismertetésében.\n",
    "\n",
    "1. Hunyadi László (2011): [Bayesi gondolkodás a statisztikában](http://www.ksh.hu/statszemle_archive/2011/2011_10-11/2011_10-11_1150.pdf). Statisztikai Szemle, 89(10-11), 1150-1171.\n",
    "2. Eddy, S.R. (2004): [What is Bayesian statistics?](http://www.rpgroup.caltech.edu/courses/PBoC_CSHL_2015/files_2015/articles/eddy%20bayesian%20methods.pdf) Nature Biotechnology, 22(9), 1177-1178.\n",
    "3. Jake VanderPlas (2014): Frequentism and Bayesianism: A Python-driven primer. Proc. of the 13th Python in Science Conf. [arXiv:1411.5018v1](http://arxiv.org/pdf/1411.5018v1)\n",
    "4. Eguchi, Tomoharu (2008): [An Introduction to Bayesian Statistics Without Using Equations](http://mgel.env.duke.edu/wp-content/publicuploads/eguchi-2008-intro-to-baysian-statistics.pdf). Marine Turtle Newsletter 122, 1-5.\n",
    "5. Koch, K.R. (2007): [Introduction to Bayesian Statistics](http://www.springer.com/us/book/9783540727231). 2nd Ed. Springer, ISBN 978-3-540-72723-1\n",
    "6. Jake VanderPlas (2014): Frequentism and Bayesianism: A practical introduction. [internet blog](http://jakevdp.github.io/blog/2014/03/11/frequentism-and-bayesianism-a-practical-intro/)\n",
    "7. MacKay, D.J.C. (1992): [Bayesian Interpolation](https://pdfs.semanticscholar.org/8e68/c54f39e87daf3a8bdc0ee005aece3c652d11.pdf). Neur. Comp. 4, 415-447.\n",
    "8. Leroy, S.S (1997): [Measurement of geopotential heights by GPS radio occultation](http://onlinelibrary.wiley.com/doi/10.1029/96JD03083/abstract). Journal of Geophysical Research, 102(D6), 6971-6986.\n",
    "9. Leroy, S.S. Ao, C.O. Verkhoglyadova, O. (2012): [Mapping GPS Radio Occultation Data by Bayesian Interpolation](http://journals.ametsoc.org/doi/pdf/10.1175/JTECH-D-11-00179.1). Journal of Atmospheric and Ocean Technology, 29, 1062-1074.\n",
    "10. Horváth Jenőné (2001): [A Bayes-statisztika és alkalmazása](http://elib.kkf.hu/okt_publ/tek_2001_25.pdf). BGF Tudományos Évkönyv, 218-225."
   ]
  }
 ],
 "metadata": {
  "kernelspec": {
   "display_name": "Python 2",
   "language": "python",
   "name": "python2"
  },
  "language_info": {
   "codemirror_mode": {
    "name": "ipython",
    "version": 2
   },
   "file_extension": ".py",
   "mimetype": "text/x-python",
   "name": "python",
   "nbconvert_exporter": "python",
   "pygments_lexer": "ipython2",
   "version": "2.7.6"
  }
 },
 "nbformat": 4,
 "nbformat_minor": 0
}
